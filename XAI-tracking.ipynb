{
  "cells": [
    {
      "cell_type": "code",
      "execution_count": null,
      "metadata": {
        "id": "7p3MBLSJdgTO"
      },
      "outputs": [],
      "source": [
        "from google.colab import drive\n",
        "drive.mount('/content/drive')"
      ]
    },
    {
      "cell_type": "code",
      "execution_count": null,
      "metadata": {
        "id": "RCtpx_jxzhUw"
      },
      "outputs": [],
      "source": [
        "% cd /content/drive/MyDrive/xai_tracking/\n",
        "! rm -rf raid\n",
        "! mkdir raid\n",
        "% ls"
      ]
    },
    {
      "cell_type": "code",
      "execution_count": null,
      "metadata": {
        "id": "Reu09C2c1epm"
      },
      "outputs": [],
      "source": [
        "# ! pip install ogb\n",
        "# ! pip install plotly==5.3.1\n",
        "# ! pip install torch-scatter -f https://data.pyg.org/whl/torch-1.9.0+cu111.html\n",
        "# ! pip install torch-sparse -f https://data.pyg.org/whl/torch-1.9.0+cu111.html\n",
        "# ! pip install torch-geometric\n",
        "! pip install -r requirements.txt"
      ]
    },
    {
      "cell_type": "code",
      "execution_count": null,
      "metadata": {
        "id": "0PYwvaN513YQ"
      },
      "outputs": [],
      "source": [
        "import torch; print(torch.__version__)"
      ]
    },
    {
      "cell_type": "code",
      "execution_count": null,
      "metadata": {
        "id": "_70I71ox07L1"
      },
      "outputs": [],
      "source": [
        "! python main.py train --dataset cifar10 --epochs 1 --history-file cifar10-hist.hdf5 --model-file cifar10.pt --plot-file cifar10-plots.html"
      ]
    },
    {
      "cell_type": "code",
      "execution_count": null,
      "metadata": {
        "id": "pZQZUlXqSIYC"
      },
      "outputs": [],
      "source": [
        "! python main.py explain --dataset cifar10 --epochs 1 --history-file cifar10-hist.hdf5 --model-file cifar10.pt --plot-file cifar10-plots.html"
      ]
    }
  ],
  "metadata": {
    "accelerator": "GPU",
    "colab": {
      "collapsed_sections": [],
      "name": "Copy of XAI-tracking.ipynb",
      "provenance": []
    },
    "interpreter": {
      "hash": "767d51c1340bd893661ea55ea3124f6de3c7a262a8b4abca0554b478b1e2ff90"
    },
    "kernelspec": {
      "display_name": "Python 3.9.7 64-bit",
      "name": "python3"
    },
    "language_info": {
      "codemirror_mode": {
        "name": "ipython",
        "version": 3
      },
      "file_extension": ".py",
      "mimetype": "text/x-python",
      "name": "python",
      "nbconvert_exporter": "python",
      "pygments_lexer": "ipython3",
      "version": "3.9.7"
    }
  },
  "nbformat": 4,
  "nbformat_minor": 0
}
