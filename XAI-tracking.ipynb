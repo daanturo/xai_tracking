{
  "cells": [
    {
      "cell_type": "code",
      "execution_count": null,
      "metadata": {
        "id": "7p3MBLSJdgTO"
      },
      "outputs": [],
      "source": [
        "from google.colab import drive\n",
        "drive.mount('/content/drive')"
      ]
    },
    {
      "cell_type": "code",
      "execution_count": null,
      "metadata": {
        "id": "RCtpx_jxzhUw"
      },
      "outputs": [],
      "source": [
        "% cd /content/drive/MyDrive/xai_tracking/\n",
        "! rm -rf raid\n",
        "! mkdir raid\n",
        "% ls"
      ]
    },
    {
      "cell_type": "code",
      "execution_count": null,
      "metadata": {
        "id": "Reu09C2c1epm"
      },
      "outputs": [],
      "source": [
        "! pip install ogb\n",
        "! pip install plotly==5.3.1\n",
        "! pip install torch-scatter -f https://data.pyg.org/whl/torch-1.9.0+cu111.html\n",
        "! pip install torch-sparse -f https://data.pyg.org/whl/torch-1.9.0+cu111.html\n",
        "! pip install torch-geometric"
      ]
    },
    {
      "cell_type": "code",
      "execution_count": null,
      "metadata": {
        "id": "_70I71ox07L1"
      },
      "outputs": [],
      "source": [
        "! python main.py train --dataset cifar10 --epochs 1 --history-file cifar10-hist.hdf5 --model-file cifar10.pt --plot-file cifar10-plots.html"
      ]
    },
    {
      "cell_type": "code",
      "execution_count": null,
      "metadata": {
        "id": "pZQZUlXqSIYC"
      },
      "outputs": [],
      "source": [
        "! python main.py explain --dataset cifar10 --epochs 1 --history-file cifar10-hist.hdf5 --model-file cifar10.pt --plot-file cifar10-plots.html"
      ]
    },
    {
      "cell_type": "code",
      "execution_count": 1,
      "metadata": {
        "id": "_70I71ox07L1"
      },
      "outputs": [],
      "source": [
        "! python main.py train --dataset emnist --epochs 1 --history-file emnist-hist.hdf5 --model-file emnist.pt --plot-file emnist-plots.html"
      ]
    },
    {
      "cell_type": "code",
      "execution_count": null,
      "metadata": {
        "id": "pZQZUlXqSIYC"
      },
      "outputs": [],
      "source": [
        "! python main.py explain --dataset emnist --epochs 1 --history-file emnist-hist.hdf5 --model-file emnist.pt --plot-file emnist-plots.html"
      ]
    }
  ],
  "metadata": {
    "accelerator": "GPU",
    "colab": {
      "collapsed_sections": [],
      "name": "Copy of XAI-tracking.ipynb",
      "provenance": []
    },
    "interpreter": {
      "hash": "767d51c1340bd893661ea55ea3124f6de3c7a262a8b4abca0554b478b1e2ff90"
    },
    "kernelspec": {
      "display_name": "Python 3 (ipykernel)",
      "language": "python",
      "name": "python3"
    }
  },
  "nbformat": 4,
  "nbformat_minor": 0
}
