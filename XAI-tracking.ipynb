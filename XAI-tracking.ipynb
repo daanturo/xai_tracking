{
  "nbformat": 4,
  "nbformat_minor": 0,
  "metadata": {
    "accelerator": "GPU",
    "colab": {
      "name": "Copy of XAI-tracking.ipynb",
      "provenance": [],
      "collapsed_sections": []
    },
    "kernelspec": {
      "display_name": "Python 3",
      "name": "python3"
    },
    "language_info": {
      "name": "python"
    }
  },
  "cells": [
    {
      "cell_type": "code",
      "metadata": {
        "id": "7p3MBLSJdgTO"
      },
      "source": [
        "from google.colab import drive\n",
        "drive.mount('/content/drive')"
      ],
      "execution_count": null,
      "outputs": []
    },
    {
      "cell_type": "code",
      "metadata": {
        "id": "RCtpx_jxzhUw"
      },
      "source": [
        "% cd /content/drive/MyDrive/xai_tracking/\n",
        "! rm -rf raid\n",
        "! mkdir raid\n",
        "% ls"
      ],
      "execution_count": null,
      "outputs": []
    },
    {
      "cell_type": "code",
      "metadata": {
        "id": "Reu09C2c1epm"
      },
      "source": [
        "! pip install ogb\n",
        "! pip install plotly==5.3.1\n",
        "! pip install torch-scatter -f https://data.pyg.org/whl/torch-1.9.0+cu111.html\n",
        "! pip install torch-sparse -f https://data.pyg.org/whl/torch-1.9.0+cu111.html\n",
        "! pip install torch-geometric"
      ],
      "execution_count": null,
      "outputs": []
    },
    {
      "cell_type": "code",
      "metadata": {
        "id": "0PYwvaN513YQ"
      },
      "source": [
        "import torch; print(torch.__version__)"
      ],
      "execution_count": null,
      "outputs": []
    },
    {
      "cell_type": "code",
      "metadata": {
        "id": "_70I71ox07L1"
      },
      "source": [
        "! python -m cifar10.train"
      ],
      "execution_count": null,
      "outputs": []
    },
    {
      "cell_type": "code",
      "metadata": {
        "id": "pZQZUlXqSIYC"
      },
      "source": [
        "! python -m cifar10.explain"
      ],
      "execution_count": null,
      "outputs": []
    }
  ]
}